{
 "cells": [
  {
   "cell_type": "markdown",
   "metadata": {},
   "source": [
    "# pfem4ec\n",
    "\n",
    "\n",
    "## Introduction\n",
    "\n",
    "`pfem4ec` is a fast [Julia](https://julialang.org/) in-core solver to compute effective electrical conductivity of heterogeneous materials from raw images using Pixel-Based Finite Element Method (PFEM). The software was implemented in Julia because the resulting code is as simple as it would be if it were written using a scripting language (such as Python or Matlab/Octave). On the other hand, as Julia takes advantage of a just-in-time (JIT) technology, the codes can also be as efficient as codes written using compiled programming languages (such as in C/C++ or Fortran).\n",
    " \n",
    "The conventional the finite element method in the image based numerical analysis usually leads to a very large system of equations that requires an extremely large amount of memory or out-of-core methods to be solved. In that sense, `pfem4ec` is an efficient PFEM software to estimate the effective electrical conductivity of heterogeneous materials using the Element-by-Element technique in conjunction with the Preconditioned Conjugate Gradient method (PCG).\n"
   ]
  },
  {
   "cell_type": "markdown",
   "metadata": {},
   "source": [
    "## Code\n",
    "\n",
    "### Packages and Immutable Model data struct\n",
    "\n",
    "Immutable **Model** data struct\n",
    "   \n",
    "The struct covering the fundamental data from JSON\n",
    "\n"
   ]
  },
  {
   "cell_type": "code",
   "execution_count": 1,
   "metadata": {},
   "outputs": [],
   "source": [
    "# Packages\n",
    "using JSON\n",
    "using SparseArrays\n",
    "using LinearAlgebra\n",
    "\n",
    "# Model data struct:\n",
    "struct Model\n",
    "    m_nx::UInt64;\n",
    "    m_ny::UInt64;\n",
    "    m_refinement::UInt64;\n",
    "    m_nMat::UInt16;\n",
    "    m_rhsType::UInt8;\n",
    "    m_solverType::UInt8;\n",
    "    m_pcgTol::Float64;\n",
    "    m_pcgIter::UInt64;\n",
    "    m_matKeys::Array{UInt16};\n",
    "    m_matProp::Array{Float64}; \n",
    "    m_nDOFNode::UInt8;\n",
    "    m_nNodes::UInt64;\n",
    "    m_nElems::UInt64;\n",
    "    m_nDOFs::UInt64;\n",
    "    function Model(_nx,_ny,_refine,_nMat,_rhsType,_solverType,_pcgTol,_pcgIter,_matKeys,_matProp,_nDOFNode,_nNodes,_nElems,_nDOFs)\n",
    "        new(_nx,_ny,_refine,_nMat,_rhsType,_solverType,_pcgTol,_pcgIter,_matKeys,_matProp,_nDOFNode,_nNodes,_nElems,_nDOFs);\n",
    "    end\n",
    "end"
   ]
  },
  {
   "cell_type": "markdown",
   "metadata": {},
   "source": [
    "### Read JSON and RAW file\n",
    "    \n",
    "**readJSON!(_filename::String)**\n",
    "\n",
    "Containing specific parameters to guide the FEM analysis. \n",
    "\n",
    "image_dimensions, refinement, type_of_rhs, type_of_solver, solver_tolerance, number_of_iterations, number_of_materials, properties_of_materials\n",
    "\n",
    "**readRAW!(_model::Model, _elemMatMap::Array{UInt16,1}, _filename::String)**\n",
    "\n",
    "The first input is a binary RAW file, that represents images of the microscale of a heterogeneous material with 8-bit data (integer values within the range 0 to 255).     \n",
    "\n"
   ]
  },
  {
   "cell_type": "code",
   "execution_count": 2,
   "metadata": {},
   "outputs": [
    {
     "data": {
      "text/plain": [
       "readRAW! (generic function with 1 method)"
      ]
     },
     "execution_count": 2,
     "metadata": {},
     "output_type": "execute_result"
    }
   ],
   "source": [
    "# Read JSON file:\n",
    "function readJSON!(_filename::String)\n",
    "    println(\".Read JSON!\")\n",
    "    # Open and read file:\n",
    "    open(_filename,\"r\") do f\n",
    "        data = JSON.parse(f);\n",
    "        nx = data[\"image_dimensions\"][1];\n",
    "        ny = data[\"image_dimensions\"][2];\n",
    "        refinement = 1;\n",
    "        if haskey(data, \"refinement\"); refinement = data[\"refinement\"]; end\n",
    "        rhsType = 0;\n",
    "        if haskey(data, \"type_of_rhs\"); rhsType = data[\"type_of_rhs\"]; end\n",
    "        solverType = 0;\n",
    "        if haskey(data, \"type_of_solver\"); solverType = data[\"type_of_solver\"]; end\n",
    "        pcgTol = 0.000001;\n",
    "        if haskey(data, \"solver_tolerance\"); pcgTol = data[\"solver_tolerance\"]; end\n",
    "        pcgIter = nx*ny*refinement*refinement;\n",
    "        if haskey(data, \"number_of_iterations\"); pcgIter = data[\"number_of_iterations\"]; end\n",
    "        nMat = data[\"number_of_materials\"];\n",
    "        materials = data[\"properties_of_materials\"];\n",
    "        matKeys = zeros(UInt16,256);\n",
    "        matProp = zeros(Float64,256);\n",
    "        for i=1:nMat\n",
    "            matKeys[convert(UInt8,materials[i][1])+1] = i;\n",
    "            matProp[convert(UInt8,materials[i][1])+1] = convert(Float64, materials[i][2]);\n",
    "        end\n",
    "        # Update the Model based on the given refinement level:\n",
    "        nDOFNode = 1;\n",
    "        nx *= refinement;\n",
    "        ny *= refinement;\n",
    "        nNodes = (nx+1)*(ny+1);\n",
    "        nElems = (nx)*(ny);\n",
    "        nDOFs = nDOFNode*(nx)*(ny);\n",
    "        # Build the Model with the data read from JSON file:\n",
    "        model = Model(nx,ny,refinement,nMat,rhsType,solverType,pcgTol,pcgIter,matKeys,matProp,nDOFNode,nNodes,nElems,nDOFs)\n",
    "        materials = nothing;\n",
    "        matKeys = nothing;\n",
    "        matProp = nothing;\n",
    "        data = nothing;\n",
    "        return model\n",
    "    end\n",
    "end\n",
    "\n",
    "# Read RAW file:\n",
    "function readRAW!(_model::Model, _elemMatMap::Array{UInt16,1}, _filename::String)\n",
    "    println(\".Read RAW!\");\n",
    "    # Initializations:\n",
    "    refine = _model.m_refinement; nx = _model.m_nx÷refine; ny = _model.m_ny÷refine; \n",
    "    nelem = nx*ny; el = 0; line = ny * refine * refine - ny; buffer = 0;\n",
    "    # Open and read file:\n",
    "    open(_filename, \"r\") do io\n",
    "        bin_array = read(io);        \n",
    "        # Build the element material map based on the refinement level:\n",
    "        for e=1:nelem\n",
    "            buffer = _model.m_matKeys[bin_array[e]+1];\n",
    "            for i=1:refine\n",
    "                for j=1:refine\n",
    "                    el = e + ((e-1)÷ny)*line + (j-1) + ((i-1)%refine)*ny*refine + ((e-1)%ny)*(refine-1);\n",
    "                    _elemMatMap[el] = buffer;\n",
    "                end        \n",
    "            end \n",
    "        end        \n",
    "        bin_array = nothing;\n",
    "    end\n",
    "end"
   ]
  },
  {
   "cell_type": "markdown",
   "metadata": {},
   "source": [
    "### Estimate memory consuption\n",
    "\n",
    "**estimateMemory(_model::Model)**\n",
    "\n",
    "The amount of RAM used depends on the size of the problem and the type of solver chosen.\n"
   ]
  },
  {
   "cell_type": "code",
   "execution_count": 3,
   "metadata": {},
   "outputs": [
    {
     "data": {
      "text/plain": [
       "estimateMemory (generic function with 1 method)"
      ]
     },
     "execution_count": 3,
     "metadata": {},
     "output_type": "execute_result"
    }
   ],
   "source": [
    "# Estimate memory consuption:\n",
    "function estimateMemory(_model::Model)\n",
    "    println(\".Estimate memory!\");\n",
    "    # elemMatMap = 16 bits * nElems\n",
    "    # DOFMap = 64 bits * nNodes\n",
    "    # RHS = 64 bits * nDOFs\n",
    "    # PCGM Solver   / solverType == 0 / M d x q =  * 64 bits * nDOFs\n",
    "    # Direct Solver / solverType == 1 / K = 18 * 64 bits * nElems (rough sparse estimative)\n",
    "    mem = 0;\n",
    "    if (_model.m_solverType == 0)\n",
    "        mem += (16*_model.m_nElems + 64*_model.m_nNodes + 5*64*_model.m_nDOFs)/8/1_000_000;\n",
    "    elseif (_model.m_solverType == 1)\n",
    "        mem += (16*_model.m_nElems + 64*_model.m_nNodes + 2*64*_model.m_nDOFs + 18*64*_model.m_nElems)/8/1_000_000;\n",
    "    end\n",
    "    println(\"$(_model.m_nDOFs) DOFs\");\n",
    "    println(\"$mem MB\");\n",
    "end"
   ]
  },
  {
   "cell_type": "markdown",
   "metadata": {},
   "source": [
    "### Compute the element conductivity matrix for each material\n",
    "\n",
    "**elementConductivityMatrices!(_model::Model, _K::Array{Float64,3}, _B::Array{Float64,3})**\n",
    "\n",
    "One of pfem4ec's differentials is the fact that it does not need to calculate all the elements of the model, only the elements with different materials. This saves RAM and CPU usage.\n",
    "\n",
    "**Q4ElementConductivity(_elemProps::Float64)**\n",
    "\n",
    "Analytical solutions for pixel-based finite element method (Q4 quadrilateral element that has four nodes)\n",
    "\n"
   ]
  },
  {
   "cell_type": "code",
   "execution_count": 4,
   "metadata": {},
   "outputs": [
    {
     "data": {
      "text/plain": [
       "Q4ElementConductivity (generic function with 1 method)"
      ]
     },
     "execution_count": 4,
     "metadata": {},
     "output_type": "execute_result"
    }
   ],
   "source": [
    "# Compute the element conductivity matrix for each material:\n",
    "function elementConductivityMatrices!(_model::Model, _K::Array{Float64,3}, _B::Array{Float64,3})\n",
    "    println(\".Compute each element conductivity matrix!\");\n",
    "    # Compute the matrices for each material:\n",
    "    i = 0;\n",
    "    for elemProps in _model.m_matProp[_model.m_matKeys.!=0]\n",
    "        i += 1;\n",
    "        _K[:,:,i], _B[:,:,i] = Q4ElementConductivity(elemProps);\n",
    "    end\n",
    "end\n",
    "\n",
    "# Element Q4 Conductivity - FEM:\n",
    "function Q4ElementConductivity(_elemProps::Float64)\n",
    "    # Initializations:\n",
    "    K = zeros(Float64,4,4);\n",
    "    B = zeros(Float64,2,4);\n",
    "    # Analytical k and B for a Pixel-Based FEM: \n",
    "    a = 2/3*_elemProps; b = 1/3*_elemProps; c = 1/6*_elemProps;\n",
    "    q = 1/2*_elemProps;\n",
    "    K[1,1] = +a; K[1,2] = -c; K[1,3] = -b; K[1,4] = -c;\n",
    "    K[2,1] = -c; K[2,2] = +a; K[2,3] = -c; K[2,4] = -b;\n",
    "    K[3,1] = -b; K[3,2] = -c; K[3,3] = +a; K[3,4] = -c;\n",
    "    K[4,1] = -c; K[4,2] = -b; K[4,3] = -c; K[4,4] = +a;\n",
    "    B[1,1] = -q; B[1,2] = +q; B[1,3] = +q; B[1,4] = -q;\n",
    "    B[2,1] = -q; B[2,2] = -q; B[2,3] = +q; B[2,4] = +q;\n",
    "    return K, B\n",
    "end"
   ]
  },
  {
   "cell_type": "markdown",
   "metadata": {},
   "source": [
    "### Generate the Degree of Freedom Map\n",
    "\n",
    "**generateDOFMap!(_model::Model, _DOFMap::Array{UInt64,1})**\n",
    "\n",
    "This function create degrees of freedom for the model. Top to bottom and left to right.\n",
    "\n",
    "The total number of nodes is (nx+1)*(ny+1)\n"
   ]
  },
  {
   "cell_type": "code",
   "execution_count": 5,
   "metadata": {},
   "outputs": [
    {
     "data": {
      "text/plain": [
       "generateDOFMap! (generic function with 1 method)"
      ]
     },
     "execution_count": 5,
     "metadata": {},
     "output_type": "execute_result"
    }
   ],
   "source": [
    "# Generate the Degree of Freedom Map:\n",
    "function generateDOFMap!(_model::Model, _DOFMap::Array{UInt64,1})\n",
    "    println(\".Generate the Map of DOFs (Degrees of Freedom)!\");\n",
    "    # Number the DOFs following the nodes from top to bottom and left to right:\n",
    "    for n=1:_model.m_nNodes\n",
    "        i = (n-1)%_model.m_nNodes;\n",
    "        _DOFMap[n] = (i - (i÷(_model.m_ny+1)) - _model.m_ny*((i%(_model.m_ny+1)÷_model.m_ny)))%_model.m_nElems + 1;\n",
    "    end\n",
    "end"
   ]
  },
  {
   "cell_type": "markdown",
   "metadata": {},
   "source": [
    "### Compute the RHS\n",
    "\n",
    "**computeRHS!(_model::Model, _RHS::Array{Float64,1}, _axis::Int, _K::Array{Float64,3}, _B::Array{Float64,3}, _DOFMap::Array{UInt64,1}, _elemMatMap::Array{UInt16,1})**\n",
    "\n",
    "There are two different boundaries conductions: Boundary or Domain\n"
   ]
  },
  {
   "cell_type": "code",
   "execution_count": 6,
   "metadata": {},
   "outputs": [
    {
     "data": {
      "text/plain": [
       "computeRHS! (generic function with 1 method)"
      ]
     },
     "execution_count": 6,
     "metadata": {},
     "output_type": "execute_result"
    }
   ],
   "source": [
    "# Compute the RHS: Boundary or Domain, rhsType: Boundary = 0 || Domain = 1, axis 0 = X || axis 1 = Y\n",
    "function computeRHS!(_model::Model, _RHS::Array{Float64,1}, _axis::Int, _K::Array{Float64,3}, _B::Array{Float64,3}, _DOFMap::Array{UInt64,1}, _elemMatMap::Array{UInt16,1})\n",
    "    println(\".Compute RHS!\");\n",
    "    # Initializations:\n",
    "    N1 = 0; N2 = 0; N3 = 0; N4 = 0; e = 0; \n",
    "    # Compute each RHS (_axis) based on boundary or domain data (_model.m_rhsType):\n",
    "    if _model.m_rhsType == 1  # Boundary         \n",
    "        if _axis == 0\n",
    "            deltaT = _model.m_nx;\n",
    "            c = _model.m_nx;\n",
    "            for r=1:_model.m_ny\n",
    "                e = r + (c-1)*_model.m_ny;\n",
    "                N1 = e + c; N3 = N1 + _model.m_ny; N2 = N3 + 1; N4 = N1 - 1;\n",
    "                _RHS[_DOFMap[N1]] -= (_K[1,2,_elemMatMap[e]] + _K[1,3,_elemMatMap[e]])*deltaT;\n",
    "                _RHS[_DOFMap[N2]] -= (_K[2,2,_elemMatMap[e]] + _K[2,3,_elemMatMap[e]])*deltaT;\n",
    "                _RHS[_DOFMap[N3]] -= (_K[3,2,_elemMatMap[e]] + _K[3,3,_elemMatMap[e]])*deltaT;\n",
    "                _RHS[_DOFMap[N4]] -= (_K[4,2,_elemMatMap[e]] + _K[4,3,_elemMatMap[e]])*deltaT;\n",
    "            end\n",
    "        elseif _axis == 1\n",
    "            deltaT = _model.m_ny;\n",
    "            r = 1;\n",
    "            for c=1:_model.m_nx\n",
    "                e = r + (c-1)*_model.m_ny;\n",
    "                N1 = e + c; N3 = N1 + _model.m_ny; N2 = N3 + 1; N4 = N1 - 1;\n",
    "                _RHS[_DOFMap[N1]] -= (_K[1,3,_elemMatMap[e]] + _K[1,4,_elemMatMap[e]])*deltaT;\n",
    "                _RHS[_DOFMap[N2]] -= (_K[2,3,_elemMatMap[e]] + _K[2,4,_elemMatMap[e]])*deltaT;\n",
    "                _RHS[_DOFMap[N3]] -= (_K[3,3,_elemMatMap[e]] + _K[3,4,_elemMatMap[e]])*deltaT;\n",
    "                _RHS[_DOFMap[N4]] -= (_K[4,3,_elemMatMap[e]] + _K[4,4,_elemMatMap[e]])*deltaT;\n",
    "            end\n",
    "        end\n",
    "    elseif _model.m_rhsType == 0  # Domain      \n",
    "        for e=1:_model.m_nElems\n",
    "            N1 = e + ((e-1)÷_model.m_ny) + 1; N3 = N1 + _model.m_ny; N2 = N3 + 1; N4 = N1 - 1;\n",
    "            _RHS[_DOFMap[N1]] += _B[_axis+1,1,_elemMatMap[e]];\n",
    "            _RHS[_DOFMap[N2]] += _B[_axis+1,2,_elemMatMap[e]];\n",
    "            _RHS[_DOFMap[N3]] += _B[_axis+1,3,_elemMatMap[e]];\n",
    "            _RHS[_DOFMap[N4]] += _B[_axis+1,4,_elemMatMap[e]];\n",
    "        end    \n",
    "    end\n",
    "end"
   ]
  },
  {
   "cell_type": "markdown",
   "metadata": {},
   "source": [
    "### Direct Solver\n",
    "\n",
    "**directMethod!(_model::Model, _x1::Array{Float64,1}, _x2::Array{Float64,1}, _RHS1::Array{Float64,1}, _RHS2::Array{Float64,1}, _K::Array{Float64,3}, _DOFMap::Array{UInt64,1}, _elemMatMap::Array{UInt16,1})**\n",
    "\n",
    "For the direct solver it is necessary to calculate the stiffness only once (saving the CPU usage), however for large models, even in sparse format, a lot of RAM is used.\n",
    "\n",
    "**K** => 64 bits * _numDOFs * _numDOFs "
   ]
  },
  {
   "cell_type": "code",
   "execution_count": 7,
   "metadata": {},
   "outputs": [
    {
     "data": {
      "text/plain": [
       "directMethod! (generic function with 1 method)"
      ]
     },
     "execution_count": 7,
     "metadata": {},
     "output_type": "execute_result"
    }
   ],
   "source": [
    "# Direct Solver: [K] 64 bits * _numDOFs * _numDOFs \n",
    "function directMethod!(_model::Model, _x1::Array{Float64,1}, _x2::Array{Float64,1}, _RHS1::Array{Float64,1}, _RHS2::Array{Float64,1}, _K::Array{Float64,3}, _DOFMap::Array{UInt64,1}, _elemMatMap::Array{UInt16,1})\n",
    "    println(\".Direct Solver!\");\n",
    "    # Initializations:\n",
    "    K = spzeros(_model.m_nDOFs,_model.m_nDOFs);\n",
    "    pElemDOFNum = zeros(UInt64,4);\n",
    "    N1 = 0; N2 = 0; N3 = 0; N4 = 0;\n",
    "    # Assembly system matrix:\n",
    "    for e=1:_model.m_nElems\n",
    "        N1 = e + ((e-1)÷_model.m_ny) + 1; N3 = N1 + _model.m_ny; N2 = N3 + 1; N4 = N1 - 1;\n",
    "        pElemDOFNum[1] = _DOFMap[N1]; pElemDOFNum[2] = _DOFMap[N2]; pElemDOFNum[3] = _DOFMap[N3]; pElemDOFNum[4] = _DOFMap[N4];\n",
    "        for i=1:4\n",
    "            for j=1:4\n",
    "                K[pElemDOFNum[i],pElemDOFNum[j]] += _K[i,j,_elemMatMap[e]];\n",
    "            end\n",
    "        end\n",
    "    end\n",
    "    # Solve for two rhs:\n",
    "    _x1 .= K\\_RHS1;\n",
    "    _x2 .= K\\_RHS2;\n",
    "end"
   ]
  },
  {
   "cell_type": "markdown",
   "metadata": {},
   "source": [
    "### Jacobi Preconditioner and Preconditioned Conjugate Gradient Method (PCG)\n",
    "\n",
    "**jacobiPrecond!(_model::Model, _M::Array{Float64,1}, _K::Array{Float64,3}, _DOFMap::Array{UInt64,1}, _elemMatMap::Array{UInt16,1})**\n",
    "\n",
    "The Conjugated Gradients method in its direct form, however, presents problems of numerical instability. To alleviate the problem, the preconditioner M is used.\n",
    "\n",
    "Jacobi's preconditioner is the diagonal matrix of stiffness. \n",
    "\n",
    "**pcg!(_model::Model, _x::Array{Float64,1}, _r::Array{Float64,1}, _M::Array{Float64,1}, _K::Array{Float64,3}, _DOFMap::Array{UInt64,1}, _elemMatMap::Array{UInt16,1})**\n",
    "\n",
    "The conjugate gradient method is an algorithm for the numerical solution of particular systems of linear equations, those whose matrix is defined symmetric and positive.\n",
    "\n",
    "This Preconditioned Conjugate Gradient method is based in [Shewchuk algorithm](https://www.cs.cmu.edu/~quake-papers/painless-conjugate-gradient.pdf)\n",
    "\n",
    "\n"
   ]
  },
  {
   "cell_type": "code",
   "execution_count": 8,
   "metadata": {},
   "outputs": [
    {
     "data": {
      "text/plain": [
       "pcg! (generic function with 1 method)"
      ]
     },
     "execution_count": 8,
     "metadata": {},
     "output_type": "execute_result"
    }
   ],
   "source": [
    "# Jacobi Preconditioner: assembly || M\n",
    "function jacobiPrecond!(_model::Model, _M::Array{Float64,1}, _K::Array{Float64,3}, _DOFMap::Array{UInt64,1}, _elemMatMap::Array{UInt16,1})\n",
    "    println(\".Jacobi Preconditioner!\");\n",
    "    # Initializations:\n",
    "    N1 = 0; N2 = 0; N3 = 0; N4 = 0;\n",
    "    # Compute the preconditioner: \n",
    "    for e=1:_model.m_nElems\n",
    "        N1 = e + ((e-1)÷_model.m_ny) + 1; N3 = N1 + _model.m_ny; N2 = N3 + 1; N4 = N1 - 1;\n",
    "        _M[_DOFMap[N1]] += _K[1,1,_elemMatMap[e]];\n",
    "        _M[_DOFMap[N2]] += _K[2,2,_elemMatMap[e]];\n",
    "        _M[_DOFMap[N3]] += _K[3,3,_elemMatMap[e]];\n",
    "        _M[_DOFMap[N4]] += _K[4,4,_elemMatMap[e]];\n",
    "    end\n",
    "    _M .= _M.\\1;\n",
    "end \n",
    "\n",
    "# Preconditioned Conjugate Gradient Method:\n",
    "function pcg!(_model::Model, _x::Array{Float64,1}, _r::Array{Float64,1}, _M::Array{Float64,1}, _K::Array{Float64,3}, _DOFMap::Array{UInt64,1}, _elemMatMap::Array{UInt16,1})\n",
    "    println(\".PCG Solver!\");\n",
    "    # Initializations:    \n",
    "    d = zeros(Float64,_model.m_nDOFs);\n",
    "    q = zeros(Float64,_model.m_nDOFs);\n",
    "    pElemDOFNum = zeros(UInt64,4);\n",
    "    N1 = 0; N2 = 0; N3 = 0; N4 = 0; \n",
    "    q_temp = 0;    \n",
    "    # PCG Initialization:\n",
    "    d .= _r;\n",
    "    d .*= _M;\n",
    "    delta_new = (_r'*d)[1,1];\n",
    "    delta_0 = delta_new;\n",
    "    i_max = _model.m_pcgIter;\n",
    "    ii = 0;\n",
    "    # PCG Iterations:\n",
    "    while (ii<i_max) && (abs(delta_new)>_model.m_pcgTol*_model.m_pcgTol*abs(delta_0)) #(maximum(abs.(_r))>_pcgTol)\n",
    "        @fastmath @inbounds @simd for e=1:_model.m_nElems\n",
    "            N1 = e + ((e-1)÷_model.m_ny) + 1; N3 = N1 + _model.m_ny; N2 = N3 + 1; N4 = N1 - 1;\n",
    "            pElemDOFNum[1] = _DOFMap[N1]; pElemDOFNum[2] = _DOFMap[N2]; pElemDOFNum[3] = _DOFMap[N3]; pElemDOFNum[4] = _DOFMap[N4];\n",
    "            for i=1:4\n",
    "                q_temp = 0;\n",
    "                for j=1:4\n",
    "                    q_temp += _K[i,j,_elemMatMap[e]] * d[pElemDOFNum[j]];\n",
    "                end\n",
    "                q[pElemDOFNum[i]] += q_temp;\n",
    "            end\n",
    "        end\n",
    "        alfa = delta_new/(d'*q)[1,1];\n",
    "        d .*= alfa;\n",
    "        _x .+= d;\n",
    "        q .*= alfa;\n",
    "        _r .-= q;\n",
    "        q .= _r;\n",
    "        q .*= _M;\n",
    "        delta_old = delta_new;\n",
    "        delta_new = (_r'*q)[1,1];\n",
    "        beta = delta_new/delta_old;\n",
    "        d .*= beta/alfa;\n",
    "        d .+= q;\n",
    "        q .*= 0;\n",
    "        ii += 1;\n",
    "    end\n",
    "    println(\"$ii steps\");\n",
    "    println(sqrt(abs(delta_new)/abs(delta_0)));\n",
    "end"
   ]
  },
  {
   "cell_type": "markdown",
   "metadata": {},
   "source": [
    "### Compute Flux-FEM Effective property\n",
    "\n",
    "**femEffective(_model::Model, _T::Array{Float64,1}, _axis::Int, _B::Array{Float64,3}, _DOFMap::Array{UInt64,1}, _elemMatMap::Array{UInt16,1})**\n",
    "\n",
    "After solving the system of equations, this function calculates the effective property of the material.\n"
   ]
  },
  {
   "cell_type": "code",
   "execution_count": 9,
   "metadata": {},
   "outputs": [
    {
     "data": {
      "text/plain": [
       "femEffective (generic function with 2 methods)"
      ]
     },
     "execution_count": 9,
     "metadata": {},
     "output_type": "execute_result"
    }
   ],
   "source": [
    "# Compute Flux-FEM Effective property:\n",
    "function femEffective(_model::Model, _T::Array{Float64,1}, _axis::Int, _B::Array{Float64,3}, _DOFMap::Array{UInt64,1}, _elemMatMap::Array{UInt16,1})\n",
    "    println(\".Compute Effective Property!\");\n",
    "    # Initializations:\n",
    "    QX = 0; QY = 0;\n",
    "    N1 = 0; N2 = 0; N3 = 0; N4 = 0;\n",
    "    pElemDOFNum = zeros(UInt64,4);\n",
    "    C = zeros(Float64,2,2);\n",
    "    # Compute the effective properties for each test: \n",
    "    if _model.m_rhsType == 1  # Boundary\n",
    "        if _axis == 0\n",
    "            deltaT = _model.m_nx;   \n",
    "            for eb = _model.m_nElems-(_model.m_ny-1):_model.m_nElems  \n",
    "                QX += (_B[1,2,_elemMatMap[eb]]*deltaT); QX += (_B[1,3,_elemMatMap[eb]]*deltaT);\n",
    "                QY += (_B[2,2,_elemMatMap[eb]]*deltaT); QY += (_B[2,3,_elemMatMap[eb]]*deltaT);             \n",
    "            end    \n",
    "        elseif _axis == 1\n",
    "            deltaT = _model.m_ny;\n",
    "            for eb = 1:(_model.m_ny):_model.m_nElems\n",
    "                QX += (_B[1,3,_elemMatMap[eb]]*deltaT); QX += (_B[1,4,_elemMatMap[eb]]*deltaT);\n",
    "                QY += (_B[2,3,_elemMatMap[eb]]*deltaT); QY += (_B[2,4,_elemMatMap[eb]]*deltaT);             \n",
    "            end \n",
    "        end\n",
    "        for e=1:_model.m_nElems\n",
    "            N1 = e + ((e-1)÷_model.m_ny) + 1; N3 = N1 + _model.m_ny; N2 = N3 + 1; N4 = N1 - 1;\n",
    "            pElemDOFNum[1] = N1; pElemDOFNum[2] = N2; pElemDOFNum[3] = N3; pElemDOFNum[4] = N4;\n",
    "            for i=1:4\n",
    "                QX += (_B[1,i,_elemMatMap[e]]*_T[_DOFMap[pElemDOFNum[i]]]);\n",
    "                QY += (_B[2,i,_elemMatMap[e]]*_T[_DOFMap[pElemDOFNum[i]]]);\n",
    "            end\n",
    "        end        \n",
    "    elseif _model.m_rhsType == 0  # Domain\n",
    "        t = zeros(Float64,4);\n",
    "        if (_axis == 0);     t[1] = 0; t[2] = 1; t[3] = 1; t[4] = 0;\n",
    "        elseif (_axis == 1); t[1] = 0; t[2] = 0; t[3] = 1; t[4] = 1; end   \n",
    "        for e = 1:_model.m_nElems            \n",
    "            N1 = e + ((e-1)÷_model.m_ny) + 1; N3 = N1 + _model.m_ny; N2 = N3 + 1; N4 = N1 - 1;\n",
    "            pElemDOFNum[1] = N1; pElemDOFNum[2] = N2; pElemDOFNum[3] = N3; pElemDOFNum[4] = N4;\n",
    "            for i=1:4\n",
    "                QX += (_B[1,i,_elemMatMap[e]]*(t[i] -_T[_DOFMap[pElemDOFNum[i]]]));\n",
    "                QY += (_B[2,i,_elemMatMap[e]]*(t[i] -_T[_DOFMap[pElemDOFNum[i]]]));\n",
    "            end\n",
    "        end \n",
    "    end\n",
    "    C[1,_axis+1] = QX/_model.m_nElems; C[2,_axis+1] = QY/_model.m_nElems;\n",
    "    return C\n",
    "end\n",
    "\n",
    "# Compute Flux-FEM Effective property:\n",
    "function femEffective(_model::Model, _Tx::Array{Float64,1}, _Ty::Array{Float64,1}, _B::Array{Float64,3}, _DOFMap::Array{UInt64,1}, _elemMatMap::Array{UInt16,1})\n",
    "    println(\".Compute Effective Property!\");\n",
    "    # Initializations:\n",
    "    QXx = 0; QXy  = 0; QYx = 0; QYy = 0;\n",
    "    N1 = 0; N2 = 0; N3 = 0; N4 = 0;\n",
    "    pElemDOFNum = zeros(UInt64,4);\n",
    "    # Compute the effective properties for all tests:\n",
    "    if _model.m_rhsType == 1  # Boundary\n",
    "        deltaTx = _model.m_nx;   \n",
    "        for eb=_model.m_nElems-(_model.m_ny-1):_model.m_nElems  \n",
    "            QXx += (_B[1,2,_elemMatMap[eb]]*deltaTx); QXx += (_B[1,3,_elemMatMap[eb]]*deltaTx);\n",
    "            QXy += (_B[2,2,_elemMatMap[eb]]*deltaTx); QXy += (_B[2,3,_elemMatMap[eb]]*deltaTx);          \n",
    "        end\n",
    "        deltaTy = _model.m_ny;\n",
    "        for eb=1:(_model.m_ny):_model.m_nElems\n",
    "            QYx += (_B[1,3,_elemMatMap[eb]]*deltaTy); QYx += (_B[1,4,_elemMatMap[eb]]*deltaTy);\n",
    "            QYy += (_B[2,3,_elemMatMap[eb]]*deltaTy); QYy += (_B[2,4,_elemMatMap[eb]]*deltaTy);             \n",
    "        end \n",
    "        for e=1:_model.m_nElems\n",
    "            N1 = e + ((e-1)÷_model.m_ny) + 1; N3 = N1 + _model.m_ny; N2 = N3 + 1; N4 = N1 - 1;\n",
    "            pElemDOFNum[1] = N1; pElemDOFNum[2] = N2; pElemDOFNum[3] = N3; pElemDOFNum[4] = N4;\n",
    "            for i=1:4\n",
    "                QXx += (_B[1,i,_elemMatMap[e]]*_Tx[_DOFMap[pElemDOFNum[i]]]);\n",
    "                QXy += (_B[2,i,_elemMatMap[e]]*_Tx[_DOFMap[pElemDOFNum[i]]]);\n",
    "                QYx += (_B[1,i,_elemMatMap[e]]*_Ty[_DOFMap[pElemDOFNum[i]]]);\n",
    "                QYy += (_B[2,i,_elemMatMap[e]]*_Ty[_DOFMap[pElemDOFNum[i]]]);\n",
    "            end\n",
    "        end\n",
    "    elseif _model.m_rhsType == 0  # Domain\n",
    "        t1 = zeros(Float64,4); t2 = zeros(Float64,4);\n",
    "        t1[1] = 0; t1[2] = 1; t1[3] = 1; t1[4] = 0;\n",
    "        t2[1] = 0; t2[2] = 0; t2[3] = 1; t2[4] = 1;        \n",
    "        for e=1:_model.m_nElems\n",
    "            N1 = e + ((e-1)÷_model.m_ny) + 1; N3 = N1 + _model.m_ny; N2 = N3 + 1; N4 = N1 - 1;\n",
    "            pElemDOFNum[1] = N1; pElemDOFNum[2] = N2; pElemDOFNum[3] = N3; pElemDOFNum[4] = N4;\n",
    "            for i=1:4\n",
    "                QXx += (_B[1,i,_elemMatMap[e]]*(t1[i] -_Tx[_DOFMap[pElemDOFNum[i]]]));\n",
    "                QXy += (_B[2,i,_elemMatMap[e]]*(t1[i] -_Tx[_DOFMap[pElemDOFNum[i]]]));\n",
    "                QYx += (_B[1,i,_elemMatMap[e]]*(t2[i] -_Ty[_DOFMap[pElemDOFNum[i]]]));\n",
    "                QYy += (_B[2,i,_elemMatMap[e]]*(t2[i] -_Ty[_DOFMap[pElemDOFNum[i]]]));\n",
    "            end\n",
    "        end\n",
    "    end\n",
    "    C = [ QXx/_model.m_nElems QYx/_model.m_nElems; QXy/_model.m_nElems QYy/_model.m_nElems];\n",
    "    return C\n",
    "end"
   ]
  },
  {
   "cell_type": "markdown",
   "metadata": {},
   "source": [
    "### Main function\n",
    "\n",
    "**pfem4ec(_arg)**\n",
    "\n",
    "The main function calls all the other functions:\n",
    "\n",
    "read files, create model, generate boundary condictions, solve problem, compute effective properties\n",
    "    \n"
   ]
  },
  {
   "cell_type": "code",
   "execution_count": 10,
   "metadata": {},
   "outputs": [
    {
     "data": {
      "text/plain": [
       "main (generic function with 1 method)"
      ]
     },
     "execution_count": 10,
     "metadata": {},
     "output_type": "execute_result"
    }
   ],
   "source": [
    "# -----------------\n",
    "function main(_arg)\n",
    "    # Read JSON File and build the Model data structure: \n",
    "    model = readJSON!(_arg*\".json\");\n",
    "    # Read RAW File and setup the Element Material Map:\n",
    "    elemMatMap = zeros(UInt16,model.m_nElems);\n",
    "    readRAW!(model,elemMatMap,_arg*\".raw\");\n",
    "    # Estimate Memory Consumption:\n",
    "    estimateMemory(model);\n",
    "    # Compute the conductivity matrix for each Material:\n",
    "    mK = zeros(Float64,4,4,model.m_nMat);\n",
    "    mB = zeros(Float64,2,4,model.m_nMat);\n",
    "    elementConductivityMatrices!(model,mK,mB);\n",
    "    # Generate the Degree of Freedom Map:\n",
    "    vDOFMap = zeros(UInt64,model.m_nNodes); \n",
    "    generateDOFMap!(model,vDOFMap);\n",
    "    # SOLVE:\n",
    "    if (model.m_solverType == 0) # Preconditioned Conjugate Gradient Method\n",
    "        # Initialize the effective tensor, the right hand side, the inicial guess and the preconditioner:\n",
    "        C = zeros(Float64,2,2);\n",
    "        vRHS = zeros(Float64,model.m_nDOFs);   \n",
    "        vX = zeros(Float64,model.m_nDOFs);\n",
    "        vM = zeros(Float64,model.m_nDOFs);\n",
    "        # Compute the Jacobi preconditioner:\n",
    "        jacobiPrecond!(model,vM,mK,vDOFMap,elemMatMap);\n",
    "        for axis=0:1\n",
    "            # Compute the RHS: Boundary or Domain, rhsType: Boundary = 1 || Domain = 0, axis 0 = X || axis 1 = Y\n",
    "            computeRHS!(model,vRHS,axis,mK,mB,vDOFMap,elemMatMap);            \n",
    "            # Solver (to ensure optimal RAM usage we call GC before and after the PCGM):    \n",
    "            GC.gc();\n",
    "            pcg!(model,vX,vRHS,vM,mK,vDOFMap,elemMatMap);\n",
    "            GC.gc();        \n",
    "            # Compute Effective Property:\n",
    "            C .+= femEffective(model,vX,axis,mB,vDOFMap,elemMatMap);\n",
    "            vRHS .*= 0;\n",
    "            vX .*= 0;\n",
    "        end\n",
    "        M = nothing;\n",
    "        println(C)\n",
    "    elseif (model.m_solverType == 1) # Direct Method\n",
    "        # Compute the RHS: Boundary or Domain, rhsType: Boundary = 1 || Domain = 0, axis 0 = X || axis 1 = Y\n",
    "        vRHS1 = zeros(Float64,model.m_nDOFs); vRHS2 = zeros(Float64,model.m_nDOFs);\n",
    "        computeRHS!(model,vRHS1,0,mK,mB,vDOFMap,elemMatMap);\n",
    "        computeRHS!(model,vRHS2,1,mK,mB,vDOFMap,elemMatMap);\n",
    "        # Solver\n",
    "        vX1 = zeros(Float64,model.m_nDOFs); vX2 = zeros(Float64,model.m_nDOFs);\n",
    "        directMethod!(model,vX1,vX2,vRHS1,vRHS2,mK,vDOFMap,elemMatMap);\n",
    "        vRHS1 = nothing; vRHS2 = nothing;\n",
    "        # Compute Effective Property:\n",
    "        C = femEffective(model,vX1,vX2,mB,vDOFMap,elemMatMap);\n",
    "        vX1 = nothing; vX2 = nothing;\n",
    "        println(C)\n",
    "    end\n",
    "    println(\"--------------------------------------\");\n",
    "    vDOFMap = nothing; elemMatMap = nothing;\n",
    "end"
   ]
  },
  {
   "cell_type": "markdown",
   "metadata": {},
   "source": [
    "## How to run\n",
    "\n",
    "### Linux or Windows\n",
    "\n",
    "Firstly, it is important to state that, even though two input files are needed, when running the code, `pfem4ec.jl` takes a single input, a string containing the name of the model (without file extensions), hence the need to give the same name to correlated RAW and JSON files.  \n",
    "\n",
    "Users can run `pfem4ec.jl` directly from the terminal, but they need to bear in mind that Julia compiles the code prior to running, meaning that each call will take some extra time to compile (for relatively small models, this usually takes more time than the analysis itself). Certainly, if no changes are made to `pfem4ec.jl`, there’s no need to compile the same code over and over again. In light of this, the authors suggest that users run `pfem4ec.jl` from within the Julia environment, as follows.\n",
    "\n",
    "a. Start the Julia REPL:\n",
    "\n",
    "```bash\n",
    "julia\n",
    "```\n",
    "P.S.: Make sure that you’re on the directory where `pfem4ec.jl` and the input files are placed.\n",
    "\n",
    "b. Include `pfem4ec.jl`:\n",
    "\n",
    "```julia\n",
    "include(“pfem4ec.jl”)\n",
    "```\n",
    "P.S.: The first call will compile and run, all subsequent calls will just run, considerably \treducing overall elapsed time to obtain results.\n",
    "\n",
    "c. Run the `pfem4ec` function:\n",
    "```julia\n",
    "pfem4ec(“model_filename”)\n",
    "```\n",
    "\n",
    "d. To obtain time metrics for each time `pfem4ec` is run, simply add the Julia macro @time before the call presented above.\n",
    "```julia\n",
    "@time pfem4ec(“model_filename”)\n",
    "```"
   ]
  },
  {
   "cell_type": "markdown",
   "metadata": {},
   "source": [
    "## Running example of usage\n",
    "\n",
    "In this section, an example of how to run pfem4ec.jl is presented, by detailing the input files, showing how to run Julia code and exposing the output. An artificially constructed model, shown in figure, with dimensions 5x5 and two different materials (identified by 0 and 255 – black and white), is used to depict the process.\n",
    "\n",
    "<img src=\"5x5.png\" style=\"height:250px\">"
   ]
  },
  {
   "cell_type": "code",
   "execution_count": 11,
   "metadata": {},
   "outputs": [
    {
     "name": "stdout",
     "output_type": "stream",
     "text": [
      ".Read JSON!\n",
      ".Read RAW!\n",
      ".Estimate memory!\n",
      "25 DOFs\n",
      "0.001338 MB\n",
      ".Compute each element conductivity matrix!\n",
      ".Generate the Map of DOFs (Degrees of Freedom)!\n",
      ".Jacobi Preconditioner!\n",
      ".Compute RHS!\n",
      ".PCG Solver!\n",
      "15 steps\n",
      "6.519488549013206e-10\n",
      ".Compute Effective Property!\n",
      ".Compute RHS!\n",
      ".PCG Solver!\n",
      "15 steps\n",
      "4.914893810555357e-10\n",
      ".Compute Effective Property!\n",
      "[2.4649288052206093 -0.07284858259600015; -0.07284858240529658 2.4030029582331007]\n",
      "--------------------------------------\n",
      "  1.251168 seconds (897.75 k allocations: 43.784 MiB, 37.96% gc time)\n"
     ]
    }
   ],
   "source": [
    "@time main(\"5x5\")"
   ]
  }
 ],
 "metadata": {
  "kernelspec": {
   "display_name": "Julia 1.4.1",
   "language": "julia",
   "name": "julia-1.4"
  },
  "language_info": {
   "file_extension": ".jl",
   "mimetype": "application/julia",
   "name": "julia",
   "version": "1.4.1"
  }
 },
 "nbformat": 4,
 "nbformat_minor": 4
}
